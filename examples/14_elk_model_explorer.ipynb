{
 "cells": [
  {
   "cell_type": "markdown",
   "metadata": {},
   "source": [
    "# 🦌 Elk Model Explorer ⚡\n",
    "\n",
    "The [Elk Model Repositoy](https://github.com/eclipse/elk-models) was converted to elk json and included as a set of fixtures to test against. This notebook loads those fixtures for users to explore to understand what kinds of layout variety possible as well and see the originating elk json."
   ]
  },
  {
   "cell_type": "code",
   "execution_count": null,
   "metadata": {},
   "outputs": [],
   "source": [
    "import json\n",
    "\n",
    "from pathlib import Path\n",
    "from IPython.display import display, JSON\n",
    "from ipyelk import ElkDiagram, tests"
   ]
  },
  {
   "cell_type": "code",
   "execution_count": null,
   "metadata": {},
   "outputs": [],
   "source": [
    "def fixture_explorer():\n",
    "    #TODO some labels do not have a width / height provided ... could use the text sizer widget and size labels accordingly\n",
    "    #TODO some nodes do not have a specified width / height ... set a default\n",
    "    fixtures = Path(tests.__file__).parent / \"fixtures\"\n",
    "    fixtures\n",
    "\n",
    "    options = [f.relative_to(fixtures) for f in fixtures.rglob(\"*.json\")]\n",
    "    len(options)\n",
    "    import ipywidgets as W\n",
    "    diagram = ElkDiagram(layout={\"flex\":\"1\"})\n",
    "    selector = W.Dropdown(options=options)\n",
    "    err_btn = W.Button()\n",
    "    output = W.Output()\n",
    "\n",
    "    def set_err(message):\n",
    "        if message:\n",
    "            err_btn.icon = \"warning\"\n",
    "            err_btn.tooltip = message\n",
    "        else:\n",
    "            err_btn.icon = \"check\"\n",
    "            err_btn.tooltip = \"\"\n",
    "\n",
    "    def _load(change=None):\n",
    "        data = json.loads((fixtures / selector.value).read_text())\n",
    "        try:\n",
    "            output.clear_output()\n",
    "            with output:\n",
    "                display(JSON(data))\n",
    "            diagram.value = {\"id\":\"root\"}  # needed for now to clear sprotty diagram. until fixed https://github.com/jupyrdf/ipyelk/issues/17\n",
    "            diagram.value = data\n",
    "            set_err(\"\")\n",
    "        except Exception as e:\n",
    "            diagram.value = {\"id\":\"root\"}\n",
    "            set_err(str(e))\n",
    "\n",
    "\n",
    "    model_explorer = W.VBox(children=[\n",
    "\n",
    "        W.HBox(\n",
    "            children=[\n",
    "                selector,\n",
    "                err_btn,\n",
    "            ]\n",
    "        ),\n",
    "        W.HBox(\n",
    "            children=[\n",
    "                diagram,\n",
    "                output,\n",
    "            ],\n",
    "            layout={\"flex\":\"1\"})\n",
    "\n",
    "    ],\n",
    "        layout={\"height\":\"100%\"}  \n",
    "    )\n",
    "    selector.observe(_load, \"value\")\n",
    "    _load()\n",
    "    return model_explorer\n",
    "\n",
    "if __name__ == \"__main__\":\n",
    "    explorer = fixture_explorer()\n",
    "    display(explorer)"
   ]
  },
  {
   "cell_type": "code",
   "execution_count": null,
   "metadata": {},
   "outputs": [],
   "source": []
  }
 ],
 "metadata": {
  "kernelspec": {
   "display_name": "Python 3",
   "language": "python",
   "name": "python3"
  },
  "language_info": {
   "codemirror_mode": {
    "name": "ipython",
    "version": 3
   },
   "file_extension": ".py",
   "mimetype": "text/x-python",
   "name": "python",
   "nbconvert_exporter": "python",
   "pygments_lexer": "ipython3",
   "version": "3.7.9"
  }
 },
 "nbformat": 4,
 "nbformat_minor": 4
}
